{
 "cells": [
  {
   "cell_type": "markdown",
   "metadata": {},
   "source": [
    "# A recommender for one\n",
    "___"
   ]
  },
  {
   "cell_type": "code",
   "execution_count": null,
   "metadata": {},
   "outputs": [],
   "source": [
    "# Packages didn't load\n",
    "from tqdm import tqdm # Loaded. Useful in a for loop context.\n",
    "import concurrent.futures\n",
    "import pyLDAvis.sklearn\n",
    "from pylab import bone, pcolor, colorbar, plot, show, rcParams, savefig"
   ]
  },
  {
   "cell_type": "code",
   "execution_count": 4,
   "metadata": {
    "collapsed": true,
    "jupyter": {
     "outputs_hidden": true
    }
   },
   "outputs": [
    {
     "name": "stdout",
     "output_type": "stream",
     "text": [
      "Requirement already satisfied: plotly in /Users/ammarkhan/opt/anaconda3/lib/python3.8/site-packages (4.14.3)\n",
      "Requirement already satisfied: six in /Users/ammarkhan/opt/anaconda3/lib/python3.8/site-packages (from plotly) (1.15.0)\n",
      "Requirement already satisfied: retrying>=1.3.3 in /Users/ammarkhan/opt/anaconda3/lib/python3.8/site-packages (from plotly) (1.3.3)\n",
      "Requirement already satisfied: spacy in /Users/ammarkhan/opt/anaconda3/lib/python3.8/site-packages (3.0.6)\n",
      "Requirement already satisfied: blis<0.8.0,>=0.4.0 in /Users/ammarkhan/opt/anaconda3/lib/python3.8/site-packages (from spacy) (0.7.4)\n",
      "Requirement already satisfied: srsly<3.0.0,>=2.4.1 in /Users/ammarkhan/opt/anaconda3/lib/python3.8/site-packages (from spacy) (2.4.1)\n",
      "Requirement already satisfied: pathy>=0.3.5 in /Users/ammarkhan/opt/anaconda3/lib/python3.8/site-packages (from spacy) (0.5.2)\n",
      "Requirement already satisfied: requests<3.0.0,>=2.13.0 in /Users/ammarkhan/opt/anaconda3/lib/python3.8/site-packages (from spacy) (2.24.0)\n",
      "Requirement already satisfied: setuptools in /Users/ammarkhan/opt/anaconda3/lib/python3.8/site-packages (from spacy) (50.3.1.post20201107)\n",
      "Requirement already satisfied: pydantic<1.8.0,>=1.7.1 in /Users/ammarkhan/opt/anaconda3/lib/python3.8/site-packages (from spacy) (1.7.3)\n",
      "Requirement already satisfied: packaging>=20.0 in /Users/ammarkhan/opt/anaconda3/lib/python3.8/site-packages (from spacy) (20.4)\n",
      "Requirement already satisfied: preshed<3.1.0,>=3.0.2 in /Users/ammarkhan/opt/anaconda3/lib/python3.8/site-packages (from spacy) (3.0.5)\n",
      "Requirement already satisfied: wasabi<1.1.0,>=0.8.1 in /Users/ammarkhan/opt/anaconda3/lib/python3.8/site-packages (from spacy) (0.8.2)\n",
      "Requirement already satisfied: catalogue<2.1.0,>=2.0.3 in /Users/ammarkhan/opt/anaconda3/lib/python3.8/site-packages (from spacy) (2.0.4)\n",
      "Requirement already satisfied: typer<0.4.0,>=0.3.0 in /Users/ammarkhan/opt/anaconda3/lib/python3.8/site-packages (from spacy) (0.3.2)\n",
      "Requirement already satisfied: murmurhash<1.1.0,>=0.28.0 in /Users/ammarkhan/opt/anaconda3/lib/python3.8/site-packages (from spacy) (1.0.5)\n",
      "Requirement already satisfied: tqdm<5.0.0,>=4.38.0 in /Users/ammarkhan/opt/anaconda3/lib/python3.8/site-packages (from spacy) (4.50.2)\n",
      "Requirement already satisfied: cymem<2.1.0,>=2.0.2 in /Users/ammarkhan/opt/anaconda3/lib/python3.8/site-packages (from spacy) (2.0.5)\n",
      "Requirement already satisfied: thinc<8.1.0,>=8.0.3 in /Users/ammarkhan/opt/anaconda3/lib/python3.8/site-packages (from spacy) (8.0.3)\n",
      "Requirement already satisfied: jinja2 in /Users/ammarkhan/opt/anaconda3/lib/python3.8/site-packages (from spacy) (2.11.2)\n",
      "Requirement already satisfied: numpy>=1.15.0 in /Users/ammarkhan/opt/anaconda3/lib/python3.8/site-packages (from spacy) (1.19.2)\n",
      "Requirement already satisfied: spacy-legacy<3.1.0,>=3.0.4 in /Users/ammarkhan/opt/anaconda3/lib/python3.8/site-packages (from spacy) (3.0.5)\n",
      "Requirement already satisfied: smart-open<4.0.0,>=2.2.0 in /Users/ammarkhan/opt/anaconda3/lib/python3.8/site-packages (from pathy>=0.3.5->spacy) (3.0.0)\n",
      "Requirement already satisfied: chardet<4,>=3.0.2 in /Users/ammarkhan/opt/anaconda3/lib/python3.8/site-packages (from requests<3.0.0,>=2.13.0->spacy) (3.0.4)\n",
      "Requirement already satisfied: certifi>=2017.4.17 in /Users/ammarkhan/opt/anaconda3/lib/python3.8/site-packages (from requests<3.0.0,>=2.13.0->spacy) (2020.6.20)\n",
      "Requirement already satisfied: urllib3!=1.25.0,!=1.25.1,<1.26,>=1.21.1 in /Users/ammarkhan/opt/anaconda3/lib/python3.8/site-packages (from requests<3.0.0,>=2.13.0->spacy) (1.25.11)\n",
      "Requirement already satisfied: idna<3,>=2.5 in /Users/ammarkhan/opt/anaconda3/lib/python3.8/site-packages (from requests<3.0.0,>=2.13.0->spacy) (2.10)\n",
      "Requirement already satisfied: pyparsing>=2.0.2 in /Users/ammarkhan/opt/anaconda3/lib/python3.8/site-packages (from packaging>=20.0->spacy) (2.4.7)\n",
      "Requirement already satisfied: six in /Users/ammarkhan/opt/anaconda3/lib/python3.8/site-packages (from packaging>=20.0->spacy) (1.15.0)\n",
      "Requirement already satisfied: click<7.2.0,>=7.1.1 in /Users/ammarkhan/opt/anaconda3/lib/python3.8/site-packages (from typer<0.4.0,>=0.3.0->spacy) (7.1.2)\n",
      "Requirement already satisfied: MarkupSafe>=0.23 in /Users/ammarkhan/opt/anaconda3/lib/python3.8/site-packages (from jinja2->spacy) (1.1.1)\n",
      "Collecting textstat\n",
      "  Downloading textstat-0.7.0-py3-none-any.whl (99 kB)\n",
      "\u001b[K     |████████████████████████████████| 99 kB 1.2 MB/s eta 0:00:01\n",
      "\u001b[?25hCollecting pyphen\n",
      "  Downloading Pyphen-0.10.0-py3-none-any.whl (1.9 MB)\n",
      "\u001b[K     |████████████████████████████████| 1.9 MB 6.1 MB/s eta 0:00:01\n",
      "\u001b[?25hInstalling collected packages: pyphen, textstat\n",
      "Successfully installed pyphen-0.10.0 textstat-0.7.0\n"
     ]
    }
   ],
   "source": [
    "# Loading in packages\n",
    "!pip install plotly\n",
    "!pip install spacy\n",
    "!pip install textstat"
   ]
  },
  {
   "cell_type": "code",
   "execution_count": 5,
   "metadata": {},
   "outputs": [
    {
     "data": {
      "text/html": [
       "        <script type=\"text/javascript\">\n",
       "        window.PlotlyConfig = {MathJaxConfig: 'local'};\n",
       "        if (window.MathJax) {MathJax.Hub.Config({SVG: {font: \"STIX-Web\"}});}\n",
       "        if (typeof require !== 'undefined') {\n",
       "        require.undef(\"plotly\");\n",
       "        requirejs.config({\n",
       "            paths: {\n",
       "                'plotly': ['https://cdn.plot.ly/plotly-latest.min']\n",
       "            }\n",
       "        });\n",
       "        require(['plotly'], function(Plotly) {\n",
       "            window._Plotly = Plotly;\n",
       "        });\n",
       "        }\n",
       "        </script>\n",
       "        "
      ]
     },
     "metadata": {},
     "output_type": "display_data"
    }
   ],
   "source": [
    "# load core packages\n",
    "import numpy as np\n",
    "import pandas as pd\n",
    "import matplotlib.pyplot as plt\n",
    "import seaborn as sns\n",
    "import warnings\n",
    "warnings.filterwarnings('ignore')\n",
    "import string\n",
    "from statistics import *\n",
    "import time\n",
    "from tqdm import tqdm\n",
    "\n",
    "\n",
    "# Modeling & NLP related\n",
    "from sklearn.model_selection import train_test_split\n",
    "from sklearn.linear_model import LogisticRegression\n",
    "from sklearn.model_selection import GridSearchCV\n",
    "from sklearn.model_selection import cross_val_score\n",
    "from sklearn import model_selection, preprocessing, metrics, ensemble, naive_bayes, linear_model\n",
    "from sklearn.feature_extraction.text import TfidfVectorizer, CountVectorizer\n",
    "from sklearn.decomposition import NMF, LatentDirichletAllocation, TruncatedSVD\n",
    "import spacy\n",
    "from spacy.lang.en.stop_words import STOP_WORDS\n",
    "from spacy.lang.en import English\n",
    "import textstat\n",
    "\n",
    "# Plotly\n",
    "from plotly import tools\n",
    "import plotly.offline as py\n",
    "import plotly.figure_factory as ff\n",
    "py.init_notebook_mode(connected=True)\n",
    "import plotly.graph_objs as go"
   ]
  },
  {
   "cell_type": "code",
   "execution_count": 6,
   "metadata": {},
   "outputs": [],
   "source": [
    "# Easing views\n",
    "pd.options.mode.chained_assignment = None\n",
    "pd.options.display.max_columns = 999"
   ]
  },
  {
   "cell_type": "code",
   "execution_count": 7,
   "metadata": {},
   "outputs": [
    {
     "data": {
      "text/html": [
       "<div>\n",
       "<style scoped>\n",
       "    .dataframe tbody tr th:only-of-type {\n",
       "        vertical-align: middle;\n",
       "    }\n",
       "\n",
       "    .dataframe tbody tr th {\n",
       "        vertical-align: top;\n",
       "    }\n",
       "\n",
       "    .dataframe thead th {\n",
       "        text-align: right;\n",
       "    }\n",
       "</style>\n",
       "<table border=\"1\" class=\"dataframe\">\n",
       "  <thead>\n",
       "    <tr style=\"text-align: right;\">\n",
       "      <th></th>\n",
       "      <th>tweet</th>\n",
       "      <th>Prefer</th>\n",
       "    </tr>\n",
       "  </thead>\n",
       "  <tbody>\n",
       "    <tr>\n",
       "      <th>4465</th>\n",
       "      <td>Expanding the #DataScience Graduate Programme ...</td>\n",
       "      <td>0</td>\n",
       "    </tr>\n",
       "    <tr>\n",
       "      <th>3366</th>\n",
       "      <td>Hooked on Netflix 🎬🍿? Do you know how recommen...</td>\n",
       "      <td>0</td>\n",
       "    </tr>\n",
       "    <tr>\n",
       "      <th>9471</th>\n",
       "      <td>12 Steps to Applied AI. #Python #BigData #Anal...</td>\n",
       "      <td>1</td>\n",
       "    </tr>\n",
       "    <tr>\n",
       "      <th>159</th>\n",
       "      <td>me learning #DataScience  https://t.co/4n8cKf2xk8</td>\n",
       "      <td>0</td>\n",
       "    </tr>\n",
       "    <tr>\n",
       "      <th>2659</th>\n",
       "      <td>Check out my #Gig on Fiverr  https://t.co/P8Sk...</td>\n",
       "      <td>0</td>\n",
       "    </tr>\n",
       "  </tbody>\n",
       "</table>\n",
       "</div>"
      ],
      "text/plain": [
       "                                                  tweet  Prefer\n",
       "4465  Expanding the #DataScience Graduate Programme ...       0\n",
       "3366  Hooked on Netflix 🎬🍿? Do you know how recommen...       0\n",
       "9471  12 Steps to Applied AI. #Python #BigData #Anal...       1\n",
       "159   me learning #DataScience  https://t.co/4n8cKf2xk8       0\n",
       "2659  Check out my #Gig on Fiverr  https://t.co/P8Sk...       0"
      ]
     },
     "execution_count": 7,
     "metadata": {},
     "output_type": "execute_result"
    }
   ],
   "source": [
    "# laod data\n",
    "tweets = pd.read_csv('Data/df12.csv', index_col=0)\n",
    "tweets.head()"
   ]
  },
  {
   "cell_type": "code",
   "execution_count": 8,
   "metadata": {},
   "outputs": [],
   "source": [
    "# Reset index\n",
    "tweets.reset_index(drop=True, inplace=True)"
   ]
  },
  {
   "cell_type": "markdown",
   "metadata": {},
   "source": [
    "### Data & Project Overview\n",
    "___\n",
    "Columns:\n",
    "* tweet - A data science related tweet, tweeted in spring 2021\n",
    "* Prefer - I personally labeled if that tweet catches my attention (could be content, humor or other reasons)\n",
    "\n",
    "A friend introduced me to the data science communities on Twitter a while ago & I was really excited to get involved!\n",
    "Through these tweets, I hope to uncover the unconscious areas of data science that may most excite me at any given time & get in touch with people & communities that are engaging with them. \n",
    "\n",
    "This will involve exploratory analysis to find trends of interest. And preparing a recommendation engine that recommends specific tweets. About 20% of the dataset tweets excite me, so the hope would be to build a model that has an accuracy significantly above 20%."
   ]
  },
  {
   "cell_type": "code",
   "execution_count": 12,
   "metadata": {},
   "outputs": [
    {
     "name": "stdout",
     "output_type": "stream",
     "text": [
      "<class 'pandas.core.frame.DataFrame'>\n",
      "RangeIndex: 1901 entries, 0 to 1900\n",
      "Data columns (total 2 columns):\n",
      " #   Column  Non-Null Count  Dtype \n",
      "---  ------  --------------  ----- \n",
      " 0   tweet   1901 non-null   object\n",
      " 1   Prefer  1901 non-null   int64 \n",
      "dtypes: int64(1), object(1)\n",
      "memory usage: 29.8+ KB\n"
     ]
    }
   ],
   "source": [
    "tweets.info()"
   ]
  }
 ],
 "metadata": {
  "kernelspec": {
   "display_name": "Python 3",
   "language": "python",
   "name": "python3"
  },
  "language_info": {
   "codemirror_mode": {
    "name": "ipython",
    "version": 3
   },
   "file_extension": ".py",
   "mimetype": "text/x-python",
   "name": "python",
   "nbconvert_exporter": "python",
   "pygments_lexer": "ipython3",
   "version": "3.8.5"
  }
 },
 "nbformat": 4,
 "nbformat_minor": 4
}
